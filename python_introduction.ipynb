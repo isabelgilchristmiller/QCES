{
  "cells": [
    {
      "cell_type": "markdown",
      "metadata": {
        "id": "TAh_n-Fi552-"
      },
      "source": [
        "<a href=\"https://colab.research.google.com/github/johnryantaylor/QCES/blob/main/python_introduction.ipynb\" target=\"_parent\"><img src=\"https://colab.research.google.com/assets/colab-badge.svg\" alt=\"Open In Colab\"/></a>\n"
      ]
    },
    {
      "cell_type": "markdown",
      "metadata": {
        "id": "smXVcHkv553A"
      },
      "source": [
        "# Introduction to Python for QCES\n",
        "\n",
        "This notebook provides an introduction to Python and covers the concepts and commands that we will use during the LNM computational practicals in Quantitative Climate and Environmental Science.\n",
        "\n",
        "The notebook is organized into the following sections\n",
        "1. [Python basics](#section1) (variables, operations, functions)\n",
        "2. [Working with NumPy arrays](#section2)\n",
        "3. [Plotting with Matplotlib](#section3)\n",
        "4. [Pracice exercises](#section4)\n",
        "5. [Summary and other resources](#section5)\n"
      ]
    },
    {
      "cell_type": "markdown",
      "metadata": {
        "id": "W2Rxi4Dn553A"
      },
      "source": [
        "## 1. Python Basics\n",
        "\n",
        "### 1.1 Variables and Data Types\n",
        "\n",
        "In Python, you can store values in variables. Python automatically determines the type of data you're working with.\n"
      ]
    },
    {
      "cell_type": "code",
      "execution_count": null,
      "metadata": {
        "id": "cHE9taw2553A"
      },
      "outputs": [],
      "source": [
        "# This is a comment - Python ignores everything after the # symbol\n",
        "\n",
        "# Numbers (integers and floats)\n",
        "x = 5          # integer\n",
        "y = 3.14       # float (decimal number)\n",
        "z = 2.0        # also a float, even though it looks like a whole number\n",
        "\n",
        "# Strings (text)\n",
        "name = \"Python\"\n",
        "greeting = 'Hello, World!'  # Single or double quotes both produce strings\n",
        "\n",
        "# Print values to see them\n",
        "print(x)\n",
        "print(y)\n",
        "print(greeting)"
      ]
    },
    {
      "cell_type": "markdown",
      "metadata": {
        "id": "wtIdzXPq553B"
      },
      "source": [
        "### 1.2 Mathematical Operations\n",
        "\n",
        "Python supports standard mathematical operations.  Some examples are below.\n"
      ]
    },
    {
      "cell_type": "code",
      "execution_count": null,
      "metadata": {
        "id": "7ly0MhLk553B"
      },
      "outputs": [],
      "source": [
        "# Basic arithmetic\n",
        "a = 10\n",
        "b = 3\n",
        "\n",
        "print(\"Addition:\", a + b)        # 13\n",
        "print(\"Subtraction:\", a - b)     # 7\n",
        "print(\"Multiplication:\", a * b)  # 30\n",
        "print(\"Division:\", a / b)        # Note that this produces a float = 3.333...\n",
        "print(\"Exponentiation:\", a ** b) # 1000 (10 to the power of 3)\n",
        "\n",
        "# Order of operations follows standard mathematical rules (PEMDAS)\n",
        "result = (a + b) * 2 ** 3\n",
        "print(\"Complex expression:\", result)\n"
      ]
    },
    {
      "cell_type": "markdown",
      "metadata": {
        "id": "-HsNtZAh553C"
      },
      "source": [
        "### 1.3 Lists\n",
        "\n",
        "Lists store multiple values in a single variable. The first value is indexed at 0, the second value is indexed at 1, and so on.  Negative indices can be used to count backwards from the end. For example, the -1 index corresponds to the last element in the list, -2 is the second to last element, etc.\n",
        "\n",
        "Elements can be added to a list using `append`.\n",
        "\n",
        "The length of the list can be determined using `len`."
      ]
    },
    {
      "cell_type": "code",
      "execution_count": null,
      "metadata": {
        "id": "wCDoe-Ky553C"
      },
      "outputs": [],
      "source": [
        "# Create a list\n",
        "temperatures = [15.5, 18.2, 22.1, 19.8, 16.3]\n",
        "\n",
        "# Access elements by index (starting at 0)\n",
        "print(\"First temperature:\", temperatures[0])\n",
        "# Access the last element in the list\n",
        "print(\"Last temperature:\", temperatures[-1])\n",
        "\n",
        "# Add elements to a list\n",
        "temperatures.append(20.5)\n",
        "print(\"Updated list:\", temperatures)\n",
        "\n",
        "# Get the length of a list\n",
        "print(\"Number of measurements:\", len(temperatures))\n"
      ]
    },
    {
      "cell_type": "markdown",
      "metadata": {
        "id": "0m4l9Mjj553B"
      },
      "source": [
        "### 1.4 Loops\n",
        "\n",
        "Loops let you repeat operations. The syntax is\n",
        "\n",
        "`for variable in sequence:`\n",
        "\n",
        "followed by a tab-indented block of code which will be repeated by the for loop with `variable` taking the values specified in `sequence`. Unlike MATLAB, there is no `end` command. The for loop will end when the indentation ends.\n",
        "\n",
        "The command `range` generates a list with a sequence of integers and is particularly helpful for creating loops.\n",
        "\n",
        "`range(start,stop)` creates a list of integers from `start` to `stop-1`.\n",
        "\n",
        "`range(start,stop,step)` creates a list of integers from `start` to `stop-1`, counting by `step`.\n"
      ]
    },
    {
      "cell_type": "code",
      "execution_count": null,
      "metadata": {
        "id": "3RsswmX7553B"
      },
      "outputs": [],
      "source": [
        "# Loop through a range of numbers\n",
        "for i in range(5):  # range(5) creates a list consisting of elements 0, 1, 2, 3, 4\n",
        "    print(\"Iteration\", i)\n",
        "\n",
        "# You can also loop through specific values\n",
        "for value in [10, 20, 30]:\n",
        "    print(\"Value:\", value)"
      ]
    },
    {
      "cell_type": "markdown",
      "metadata": {
        "id": "QCOWxYo4553C"
      },
      "source": [
        "### 1.5 Conditionals\n",
        "\n",
        "Use `if` statements to test conditions. The syntax is\n",
        "\n",
        "`if test_condition:`\n",
        "\n",
        "followed by an indented block of code that will be executed if the condition is met. Note that unlike MATLAB and other languages, no end statement follows. The if block will be broken when the indentation is reset.\n",
        "\n",
        "Optionally, an `if` statement can be followed by `else:` which will execute the subsequent indented code if the condition is not met.\n",
        "\n",
        "Nested conditionals can be created using `elif condition:` which will only execute if the prior condition(s) is not met and the second condition is met.\n",
        "\n",
        "Variables can be given boolean (true/false type) using `True` and `False`.\n",
        "\n"
      ]
    },
    {
      "cell_type": "code",
      "execution_count": null,
      "metadata": {
        "id": "_HBReiXh553C"
      },
      "outputs": [],
      "source": [
        "Flag = True\n",
        "if Flag:\n",
        "    print(\"The flag is set to True!\")\n",
        "else:\n",
        "    print(\"The flag is set to False.\")\n",
        "\n",
        "temperature = 25  # degrees Celsius\n",
        "\n",
        "if temperature > 30:\n",
        "    print(\"It's hot!\")\n",
        "elif temperature > 20:\n",
        "    print(\"It's warm.\")\n",
        "elif temperature > 10:\n",
        "    print(\"It's cool.\")\n",
        "elif temperature > 0:\n",
        "    print(\"It's chilly.\")\n",
        "else:\n",
        "    print(\"It's freezing!\")\n"
      ]
    },
    {
      "cell_type": "markdown",
      "metadata": {
        "id": "zB2Y8zvZ553C"
      },
      "source": [
        "### 1.6 Functions\n",
        "\n",
        "Functions let you package code for reuse.  In the cell below we also make use of f-string (formatted string literal) which is a way to embed expressions inside strings.\n"
      ]
    },
    {
      "cell_type": "code",
      "execution_count": null,
      "metadata": {
        "id": "6FKvGKuX553C"
      },
      "outputs": [],
      "source": [
        "# Define a function\n",
        "def celsius_to_fahrenheit(celsius):\n",
        "    fahrenheit = celsius * 9/5 + 32\n",
        "    return fahrenheit\n",
        "\n",
        "# Use the function\n",
        "temp_c = 25\n",
        "temp_f = celsius_to_fahrenheit(temp_c)\n",
        "print(f\"{temp_c}°C is {temp_f}°F\")  # f-string for formatted output\n"
      ]
    },
    {
      "cell_type": "markdown",
      "metadata": {
        "id": "tLEaMtiJ553C"
      },
      "source": [
        "## 2. NumPy: Numerical Python\n",
        "\n",
        "NumPy is the fundamental package for scientific computing in Python. It provides powerful array objects and mathematical functions.\n",
        "\n",
        "### 2.1 Importing NumPy\n",
        "\n",
        "First, we need to import the NumPy library. By convention, we give it the alias `np`:"
      ]
    },
    {
      "cell_type": "code",
      "execution_count": null,
      "metadata": {
        "id": "TMW544Kg553D"
      },
      "outputs": [],
      "source": [
        "import numpy as np\n"
      ]
    },
    {
      "cell_type": "markdown",
      "metadata": {
        "id": "R_e-U3v0553D"
      },
      "source": [
        "### 2.2 Creating Arrays\n",
        "\n",
        "NumPy arrays are like lists, but are much more powerful for numerical operations. Unlike lists, all elements in NumPy arrays must be of the same type. If\n"
      ]
    },
    {
      "cell_type": "code",
      "execution_count": null,
      "metadata": {
        "id": "JrzkMiVQ553D"
      },
      "outputs": [],
      "source": [
        "# Create an array from a list\n",
        "arr1 = np.array([1, 2, 3, 4, 5])\n",
        "print(\"Array:\", arr1)\n",
        "\n",
        "arr_mixed = np.array([1, 2, 4.0, 'why?'])  # Turning Mixed type lists into NumPy arrays results in all elements being converted to the same type\n",
        "print(\"Array with mixed types:\", arr_mixed)\n",
        "\n",
        "# Create an array of zeros\n",
        "zeros = np.zeros(5)\n",
        "print(\"Zeros:\", zeros)\n",
        "\n",
        "# Create an array of ones\n",
        "ones = np.ones(4)\n",
        "print(\"Ones:\", ones)\n",
        "\n",
        "# Create evenly spaced values\n",
        "x = np.linspace(0, 10, 6)  # 6 values from 0 to 10\n",
        "print(\"Linspace:\", x)\n"
      ]
    },
    {
      "cell_type": "markdown",
      "metadata": {
        "id": "fOvEooZv553D"
      },
      "source": [
        "### 2.3 Array Operations\n",
        "\n",
        "One of NumPy's most powerful features is **vectorization** - which applies operations to entire arrays at once. This is much faster than doing operations pointwise.\n"
      ]
    },
    {
      "cell_type": "code",
      "execution_count": null,
      "metadata": {
        "id": "kOJbjExc553D"
      },
      "outputs": [],
      "source": [
        "# Create two arrays\n",
        "a = np.array([1, 2, 3, 4])\n",
        "b = np.array([10, 20, 30, 40])\n",
        "\n",
        "# Element-wise operations\n",
        "print(\"Addition:\", a + b)          # [11, 22, 33, 44]\n",
        "print(\"Multiplication:\", a * b)    # [10, 40, 90, 160]\n",
        "print(\"Exponentiation:\", a ** 2)   # [1, 4, 9, 16]\n",
        "\n",
        "# Operations with scalars\n",
        "print(\"Add 5 to all:\", a + 5)      # [6, 7, 8, 9]\n",
        "print(\"Multiply by 10:\", a * 10)   # [10, 20, 30, 40]\n"
      ]
    },
    {
      "cell_type": "markdown",
      "metadata": {
        "id": "_KfKg1vu553D"
      },
      "source": [
        "We can test this assertion by timing operations with a python list and a NumPy array using the `time` function."
      ]
    },
    {
      "cell_type": "code",
      "execution_count": null,
      "metadata": {
        "id": "CY6FK6ML553D"
      },
      "outputs": [],
      "source": [
        "import time # Use the time module to time multiplication of lists and NumPy arrays\n",
        "\n",
        "# Create large arrays/lists\n",
        "size = 10**6\n",
        "list_a = list(range(size))\n",
        "list_b = list(range(size))\n",
        "\n",
        "array_a = np.array(list_a)\n",
        "array_b = np.array(list_b)\n",
        "\n",
        "# Multiply lists\n",
        "start_time = time.time()\n",
        "list_result = [0]*size\n",
        "for i in range(size):\n",
        "    list_result[i] = list_a[i] * list_b[i]\n",
        "print(\"List multiplication time in seconds:\", time.time() - start_time)\n",
        "\n",
        "# Multiply NumPy arrays\n",
        "start_time = time.time()\n",
        "array_result = array_a * array_b\n",
        "print(\"NumPy multiplication time in seconds:\", time.time() - start_time)"
      ]
    },
    {
      "cell_type": "markdown",
      "metadata": {
        "id": "CRevMQRG553D"
      },
      "source": [
        "### 2.4 Mathematical Functions\n",
        "\n",
        "NumPy provides many mathematical functions that work on arrays. A few examples are below."
      ]
    },
    {
      "cell_type": "code",
      "execution_count": null,
      "metadata": {
        "id": "9xGRWInZ553D"
      },
      "outputs": [],
      "source": [
        "# Create an array of angles\n",
        "angles = np.linspace(0, 2*np.pi, 5)\n",
        "\n",
        "# Trigonometric functions\n",
        "print(\"Sine:\", np.sin(angles))\n",
        "print(\"Cosine:\", np.cos(angles))\n",
        "\n",
        "# Exponential and logarithmic\n",
        "x = np.array([1, 2, 3])\n",
        "print(\"Exponential:\", np.exp(x))   # e^x\n",
        "\n",
        "# Other useful functions\n",
        "data = np.array([1, 4, 2, 8, 3])\n",
        "print(\"Maximum:\", np.max(data))\n",
        "print(\"Mean:\", np.mean(data))\n",
        "print(\"Square root:\", np.sqrt(data))\n"
      ]
    },
    {
      "cell_type": "markdown",
      "metadata": {
        "id": "_zSd2uWn553D"
      },
      "source": [
        "### 2.5 Array Indexing and Slicing\n",
        "\n",
        "We can access elements of NumPy arrays in a similar way to lists. As with lists, the first element of a NumPy array is indexed to 0, then 1, etc.\n",
        "\n",
        "We can access multiple elements using array slicing with the syntax `arr[start:end]` where `arr` is a NumPy array and `start` and `end-1` are the starting and ending indices of the slice. It is important to note that the end index is not included in the slice when doing `arr[start:end]`.\n",
        "\n",
        "If we omit start and/or end, then we index to the end of the array.\n"
      ]
    },
    {
      "cell_type": "code",
      "execution_count": null,
      "metadata": {
        "id": "sFAGlXmf553D"
      },
      "outputs": [],
      "source": [
        "# Create an array\n",
        "arr = np.array([10, 20, 30, 40, 50, 60])\n",
        "\n",
        "# Access single elements\n",
        "print(\"First element:\", arr[0])\n",
        "print(\"Last element:\", arr[-1])\n",
        "\n",
        "print(\"All: \", arr[:])\n",
        "print(\"First three:\", arr[0:3])    # [10, 20, 30]\n",
        "print(\"First three (again):\", arr[:3]) # [10, 20, 30]\n",
        "print(\"From index 2 on:\", arr[2:]) # [30, 40, 50, 60]\n",
        "print(\"Every other:\", arr[::2])    # [10, 30, 50]\n"
      ]
    },
    {
      "cell_type": "markdown",
      "metadata": {
        "id": "aMXEMPjd553D"
      },
      "source": [
        "### 2.6 Multidimensional arrays\n",
        "\n",
        "NumPy can work with multi-dimensional arrays. For example, a two-dimensional array can be used to store the coefficients of a matrix. Remember that indexing starts at 0 (which is different from what might be used to when thinking about matrices).\n",
        "\n",
        "Attributes of NumPy arrays can be accessed using a dot following the array name, followed by the attribute. We can get the size of each dimension of an array using the `shape` attribute.\n"
      ]
    },
    {
      "cell_type": "code",
      "execution_count": null,
      "metadata": {
        "id": "_jS4xUl6553D"
      },
      "outputs": [],
      "source": [
        "# Create a 2D array (matrix)\n",
        "matrix = np.array([[1, 2, 3],\n",
        "                   [4, 5, 6],\n",
        "                   [7, 8, 9]])\n",
        "print(\"Matrix:\")\n",
        "print(matrix)\n",
        "\n",
        "# Access elements: array[row, column]\n",
        "print(\"Element at row 1, col 2:\", matrix[1, 2])  # 6\n",
        "\n",
        "# Print the size of each dimension of the array\n",
        "print(\"Shape:\", matrix.shape)  # (3, 3)\n",
        "\n",
        "# Create a 2D array of zeros\n",
        "zero_array = np.zeros((3, 4))  # 3 rows, 4 columns\n",
        "print(\"Zero array:\")\n",
        "print(zero_array)\n"
      ]
    },
    {
      "cell_type": "markdown",
      "metadata": {
        "id": "Pt9pPtz5553D"
      },
      "source": [
        "## 3. Matplotlib: Plotting and Visualization\n",
        "\n",
        "Matplotlib is a standard Python plotting library which we will use in the LNM computational projects. We will use the `pyplot` interface which operates in a similar way to plots in MATLAB.\n",
        "\n",
        "### 3.1 Importing Matplotlib\n"
      ]
    },
    {
      "cell_type": "code",
      "execution_count": null,
      "metadata": {
        "id": "e1MSWscH553D"
      },
      "outputs": [],
      "source": [
        "import matplotlib.pyplot as plt # Import the matplotlib.pyplot module and alias it to plt"
      ]
    },
    {
      "cell_type": "markdown",
      "metadata": {
        "id": "UbySQIa6553E"
      },
      "source": [
        "### 3.2 Basic Line Plot\n"
      ]
    },
    {
      "cell_type": "code",
      "execution_count": null,
      "metadata": {
        "id": "PFOEiGBR553E"
      },
      "outputs": [],
      "source": [
        "# Create some data\n",
        "x = np.linspace(0, 10, 100)\n",
        "y = np.sin(x)\n",
        "\n",
        "# Create a plot\n",
        "plt.figure(figsize=(8, 4))  # Set figure size (width, height in inches)\n",
        "plt.plot(x, y)\n",
        "plt.xlabel('x')             # Label x-axis\n",
        "plt.ylabel('sin(x)')        # Label y-axis\n",
        "plt.title('Sine Function') # Add title\n",
        "plt.grid(True)              # Add grid\n",
        "plt.show()                  # Display the plot\n"
      ]
    },
    {
      "cell_type": "markdown",
      "metadata": {
        "id": "dP2TSytr553E"
      },
      "source": [
        "### 3.3 Overlaying plots\n",
        "\n",
        "We can overlay plots with multiple calls to the `plt.plot` function"
      ]
    },
    {
      "cell_type": "code",
      "execution_count": null,
      "metadata": {
        "id": "aXt_C32Z553E"
      },
      "outputs": [],
      "source": [
        "# Plot multiple lines\n",
        "x = np.linspace(0, 2*np.pi, 100)\n",
        "y1 = np.sin(x)\n",
        "y2 = np.cos(x)\n",
        "\n",
        "plt.figure(figsize=(8, 5))\n",
        "plt.plot(x, y1, 'b-', label='sin(x)', linewidth=2)   # blue solid line\n",
        "plt.plot(x, y2, 'r--', label='cos(x)', linewidth=2)  # red dashed line\n",
        "plt.xlabel('x')\n",
        "plt.ylabel('y')\n",
        "plt.title('Trigonometric Functions')\n",
        "plt.legend()  # Show legend\n",
        "plt.xlim(0, 2*np.pi)  # Set x-axis limits\n",
        "plt.ylim(-1.5, 1.5)   # Set y-axis limits\n",
        "plt.grid(True, alpha=0.3)  # Semi-transparent grid\n",
        "plt.show()\n"
      ]
    },
    {
      "cell_type": "markdown",
      "metadata": {
        "id": "eoRW7d9u553E"
      },
      "source": [
        "### 3.4 Scatter Plots\n",
        "\n",
        "Scatter plots can be used to plot individual data points."
      ]
    },
    {
      "cell_type": "code",
      "execution_count": null,
      "metadata": {
        "id": "E7QiXcKp553E"
      },
      "outputs": [],
      "source": [
        "# Create some scattered data\n",
        "x = np.random.rand(50)  # 50 random values between 0 and 1\n",
        "y = 2*x + 0.5 + 0.2*np.random.randn(50)  # Linear relationship with noise\n",
        "\n",
        "plt.figure(figsize=(6, 6))\n",
        "plt.scatter(x, y, s=50, alpha=0.6)  # s=size, alpha=transparency\n",
        "plt.xlabel('x')\n",
        "plt.ylabel('y')\n",
        "plt.title('Scatter Plot Example')\n",
        "plt.grid(True)\n",
        "plt.show()\n"
      ]
    },
    {
      "cell_type": "markdown",
      "metadata": {
        "id": "w-htmWPY553E"
      },
      "source": [
        "### 3.5 Heatmaps and contour plots\n",
        "\n",
        "When plotting 2D data, say a function of $x$ and $y$, we need to generate a 2D 'grid' of x and y values to pass to the plotting functions. We can do this by first creating 1D arrays with a set of points in x and y and the using the `np.meshgrid` function to turn these into 2D coordinate grids for plotting.\n",
        "\n",
        "The plotting function `pcolormesh` creates colored grid (heatmap) plots. `contour` creates a 2D contour plot. Here, we overlay a contour on top of a heatmap.\n",
        "\n",
        "Using the command `plt.axis('equal')` we ensure that the plot maintains an equal aspect ratio in x and y so that the contours appear circular.\n",
        "\n",
        "Note that we can put equations inside dollar signs for mathematical formatting (in this case showing $x^2$ and $y^2$ in the plot title).\n"
      ]
    },
    {
      "cell_type": "code",
      "execution_count": null,
      "metadata": {
        "id": "xLnFpFaQ553E"
      },
      "outputs": [],
      "source": [
        "# Create a 2D function to visualize\n",
        "x = np.linspace(-3, 3, 100)\n",
        "y = np.linspace(-3, 3, 100)\n",
        "X, Y = np.meshgrid(x, y)  # Create 2D coordinate arrays\n",
        "Z = np.exp(-(X**2 + Y**2))  # 2D Gaussian\n",
        "\n",
        "plt.figure(figsize=(8, 6))\n",
        "plt.pcolormesh(X, Y, Z, cmap='viridis', shading='auto')  # cmap sets color scheme\n",
        "plt.colorbar(label='z(x,y)')  # Add colorbar with label\n",
        "plt.contour(X, Y, Z, levels=10, colors='black', linestyles='dashed')  # Overlay dashed contour lines\n",
        "plt.xlabel('x')\n",
        "plt.ylabel('y')\n",
        "plt.title('2D Gaussian Function, z(x,y) = exp(-($x^2$ + $y^2$))')\n",
        "plt.axis('equal')  # Equal aspect ratio\n",
        "plt.show()"
      ]
    },
    {
      "cell_type": "markdown",
      "metadata": {
        "id": "6IgOI_wW553E"
      },
      "source": [
        "### 3.6 Subplots\n",
        "\n",
        "We can create multiple plots in one figure using the `subplot` command. When called with `subplot(r,c,i)`, this will generate a figure with `r` total rows, `c` total columns, and we 'activate' subplot number `i` so that subsequent plotting commands will operate on that subplot. The subplots are numbered from left to right and from top to bottom (like reading a book).\n"
      ]
    },
    {
      "cell_type": "code",
      "execution_count": null,
      "metadata": {
        "id": "f525WyAS553O"
      },
      "outputs": [],
      "source": [
        "x = np.linspace(0, 10, 100)\n",
        "\n",
        "plt.figure(figsize=(12, 4))\n",
        "\n",
        "# First subplot\n",
        "plt.subplot(1, 3, 1)  # (rows, columns, index)\n",
        "plt.plot(x, np.sin(x))\n",
        "plt.title('sin(x)')\n",
        "plt.xlabel('x')\n",
        "plt.ylabel('y')\n",
        "\n",
        "# Second subplot\n",
        "plt.subplot(1, 3, 2)\n",
        "plt.plot(x, np.cos(x), 'r')\n",
        "plt.title('cos(x)')\n",
        "plt.xlabel('x')\n",
        "plt.ylabel('y')\n",
        "\n",
        "# Third subplot\n",
        "plt.subplot(1, 3, 3)\n",
        "plt.plot(x, np.exp(-x/5), 'g')\n",
        "plt.title('exp(-x/5)')\n",
        "plt.xlabel('x')\n",
        "plt.ylabel('y')\n",
        "\n",
        "plt.tight_layout()  # Adjust spacing to prevent overlap\n",
        "plt.show()\n"
      ]
    },
    {
      "cell_type": "markdown",
      "metadata": {
        "id": "6GDFuvGO553O"
      },
      "source": [
        "## 4. Practice Exercises\n",
        "\n",
        "Some optional excercises to practice your python skills\n",
        "\n",
        "### 1. Unit Conversion\n",
        "Create a one-dimensional NumPy array with values of temperatures in Celsius. Convert the temperatures to Fahrenheit and plot both on the same graph.\n"
      ]
    },
    {
      "cell_type": "code",
      "execution_count": 63,
      "metadata": {
        "id": "yFsrd0Jo553O",
        "outputId": "072d83db-122f-4576-afb1-97242b728ae8",
        "colab": {
          "base_uri": "https://localhost:8080/",
          "height": 487
        }
      },
      "outputs": [
        {
          "output_type": "display_data",
          "data": {
            "text/plain": [
              "<Figure size 800x500 with 1 Axes>"
            ],
            "image/png": "[encoded data removed]"
          },
          "metadata": {}
        }
      ],
      "source": [
        "temps = list(range(-10,40,5))\n",
        "array_c = np.array(temps)\n",
        "array_f = celsius_to_fahrenheit(array_c)\n",
        "\n",
        "plt.figure(figsize=(8, 5))\n",
        "plt.plot(array_c, array_f)\n",
        "plt.xlabel('Temperatures in Celcius')\n",
        "plt.ylabel('Temperatures in Fahrenheit')\n",
        "plt.title('Temperature conversion')\n",
        "plt.grid(True, alpha=0.3)  # Semi-transparent grid\n",
        "plt.show()"
      ]
    },
    {
      "cell_type": "markdown",
      "metadata": {
        "id": "qVLB0Q5a553O"
      },
      "source": [
        "### 2. Wave Superposition\n",
        "Create a function of x which returns the sum of two sine waves with different frequencies. For example, let $f(x)=sin(x) + sin(3x)$. Then, create a NumPy array with a set of values of `x` and plot `f(x)` vs. `x`.\n"
      ]
    },
    {
      "cell_type": "code",
      "execution_count": null,
      "metadata": {
        "id": "jxuLV3r4553P"
      },
      "outputs": [],
      "source": []
    },
    {
      "cell_type": "markdown",
      "metadata": {
        "id": "gE4mGOht553P"
      },
      "source": [
        "### 3. 2D Pattern\n",
        "Create and visualize a 2D function. Specifically, let $z(x,y)=sin(x)*cos(y)$. Make a contour plot of $z$ as a function of x and y, where x and y range from -π to π. Make sure that the plot has an equal aspect ratio so that the contours near the maximum and minimum points are circular.\n"
      ]
    },
    {
      "cell_type": "code",
      "execution_count": null,
      "metadata": {
        "id": "1u_Z1NYK553P"
      },
      "outputs": [],
      "source": [
        "# Your code here\n"
      ]
    },
    {
      "cell_type": "markdown",
      "metadata": {
        "id": "LSw2l487553P"
      },
      "source": [
        "## 5. Summary\n",
        "\n",
        "**Python Basics:**\n",
        "- Variables store data (no need to declare type)\n",
        "- Lists can be used to store multiple values in a single variable\n",
        "- The elements in a list can have multiple data types (e.g integer, float, string)\n",
        "- Use `for` loops to repeat operations\n",
        "- Use functions to organize reusable code\n",
        "- Comments (using `#`) are helpful to explain your code\n",
        "\n",
        "**NumPy:**\n",
        "- `import numpy as np` to use NumPy\n",
        "- Create arrays with `np.array()`, `np.zeros()`, `np.linspace()`\n",
        "- Operations work element-wise on entire arrays\n",
        "- Use mathematical functions: `np.sin()`, `np.exp()`, `np.sqrt()`, etc.\n",
        "- Access elements with indexing: `arr[i]` or slicing: `arr[start:end-1]`\n",
        "\n",
        "**Matplotlib:**\n",
        "- `import matplotlib.pyplot as plt` to use Matplotlib\n",
        "- `plt.plot(x, y)` for a line plot\n",
        "- `plt.scatter(x, y)` for a scatter plot\n",
        "- `plt.pcolormesh(X, Y, Z)` for a 2D heatmap\n",
        "- `plt.contour(X, Y, Z)` for a 2D contour plot\n",
        "- Always label axes and add titles for clarity\n",
        "- Use `plt.show()` to display plots\n",
        "\n",
        "**Useful Resources**\n",
        "\n",
        "- **NumPy Documentation:** https://numpy.org/doc/\n",
        "- **Matplotlib Gallery:** https://matplotlib.org/stable/gallery/\n",
        "- **Python Tutorial:** https://docs.python.org/3/tutorial/\n"
      ]
    }
  ],
  "metadata": {
    "colab": {
      "provenance": []
    },
    "kernelspec": {
      "display_name": "dedalus3",
      "language": "python",
      "name": "python3"
    },
    "language_info": {
      "codemirror_mode": {
        "name": "ipython",
        "version": 3
      },
      "file_extension": ".py",
      "mimetype": "text/x-python",
      "name": "python",
      "nbconvert_exporter": "python",
      "pygments_lexer": "ipython3",
      "version": "3.12.2"
    }
  },
  "nbformat": 4,
  "nbformat_minor": 0
}